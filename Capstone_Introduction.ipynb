{
 "cells": [
  {
   "cell_type": "markdown",
   "metadata": {},
   "source": [
    "### 1. Introduction"
   ]
  },
  {
   "cell_type": "markdown",
   "metadata": {},
   "source": [
    "Chicago is the third largest city in the United States with its nearly 9 million population. The entire city includes 77 community areas and highly demographically diverse. I like the community that I live in because of the convenience and the similar lifestyle of other community members. For example, there are many restaurants in the neighborhood, and the grocery stores are in five-minute walking distance. Park and recreational areas also are just blocks away. Community members are well-educated and have decent jobs and have relatively high income level. However, I may need to move to other area due to career development. I am curious about the similarity of different community areas in Chicago and how income levels distribute across Chicagoland. By knowing the similar communities as the my current one, I may better decide the possible communities for me to live in the future. "
   ]
  },
  {
   "cell_type": "code",
   "execution_count": null,
   "metadata": {},
   "outputs": [],
   "source": []
  },
  {
   "cell_type": "code",
   "execution_count": null,
   "metadata": {},
   "outputs": [],
   "source": []
  },
  {
   "cell_type": "code",
   "execution_count": null,
   "metadata": {},
   "outputs": [],
   "source": []
  },
  {
   "cell_type": "code",
   "execution_count": null,
   "metadata": {},
   "outputs": [],
   "source": []
  }
 ],
 "metadata": {
  "kernelspec": {
   "display_name": "Python 3",
   "language": "python",
   "name": "python3"
  },
  "language_info": {
   "codemirror_mode": {
    "name": "ipython",
    "version": 3
   },
   "file_extension": ".py",
   "mimetype": "text/x-python",
   "name": "python",
   "nbconvert_exporter": "python",
   "pygments_lexer": "ipython3",
   "version": "3.8.5"
  }
 },
 "nbformat": 4,
 "nbformat_minor": 4
}
