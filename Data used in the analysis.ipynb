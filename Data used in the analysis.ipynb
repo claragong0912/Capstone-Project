{
 "cells": [
  {
   "cell_type": "markdown",
   "metadata": {},
   "source": [
    "### 2. Data used in the analysis"
   ]
  },
  {
   "cell_type": "markdown",
   "metadata": {},
   "source": [
    "First, I use requests and BeautifulSoup to webscrape the community areas in Chicago from wikipedia page. It contains the name of total 77 community areas in Chicago."
   ]
  },
  {
   "cell_type": "markdown",
   "metadata": {},
   "source": [
    "Second, I use community name to get geographic coordinates of each community. I use geographic coordinates to get venue information for each community by accessing Foursquare API."
   ]
  },
  {
   "cell_type": "markdown",
   "metadata": {},
   "source": [
    "Third, I downloaded Census Data - Selected socioeconomic indicators in Chicago, 2008 – 2012 from City of Chicago data portal. The file includes Per Capita Income from 2008 to 2012 of each community. I use this data to categorize income level of Chicago communities.  "
   ]
  },
  {
   "cell_type": "markdown",
   "metadata": {},
   "source": [
    "Last, I downloaded \"chicago-community-areas.geojson\" from kaggle.com. The geojson file contains the geocodes of the boundries of each community in Chicago. I use the geojson file to create a choropleth map that color-codes the income levels of community. "
   ]
  },
  {
   "cell_type": "code",
   "execution_count": null,
   "metadata": {},
   "outputs": [],
   "source": []
  }
 ],
 "metadata": {
  "kernelspec": {
   "display_name": "Python 3",
   "language": "python",
   "name": "python3"
  },
  "language_info": {
   "codemirror_mode": {
    "name": "ipython",
    "version": 3
   },
   "file_extension": ".py",
   "mimetype": "text/x-python",
   "name": "python",
   "nbconvert_exporter": "python",
   "pygments_lexer": "ipython3",
   "version": "3.8.5"
  }
 },
 "nbformat": 4,
 "nbformat_minor": 4
}
